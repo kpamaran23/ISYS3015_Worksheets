{
 "cells": [
  {
   "cell_type": "raw",
   "id": "ab3b2560-e7d7-4fd2-bfb1-a2f692593de5",
   "metadata": {},
   "source": [
    "---\n",
    "title: \"Functional Programming in Python Worksheet\"\n",
    "format:\n",
    "  pdf:\n",
    "    toc: true\n",
    "    number-sections: false\n",
    "    colorlinks: true\n",
    "  docx:\n",
    "    toc: true\n",
    "    number-sections: false\n",
    "    highlight-style: github\n",
    "  html:\n",
    "    toc: true\n",
    "    toc-expand: 2\n",
    "    embed-resources: true\n",
    "---"
   ]
  },
  {
   "cell_type": "markdown",
   "id": "c8c23595-7853-4500-9b94-2d49d01c68e9",
   "metadata": {},
   "source": [
    "## Introduction\n",
    "\n",
    "Functional programming is a style of programming that emphasizes pure functions, immutable data, and avoiding side effects. Some key concepts in functional programming include:\n",
    "\n",
    "- Pure functions - Functions that always return the same output for the same input and have no side effects. Their output depends solely on their input arguments.\n",
    "- Immutable data - Data that cannot be modified after it is created. This prevents side effects from functions that mutate data.\n",
    "- Avoid side effects - Calling a function should not modify state outside of the function's scope like mutating a global variable.\n",
    "- First-class functions - Treating functions like any other variable. You can pass them into other functions, return them from functions, assign them to variables, etc.\n",
    "- Higher-order functions - Functions that take in other functions as arguments or return functions as output. This allows abstraction and reusability.\n",
    "- Recursion - Calling a function from within itself to repeat code. This can replace some types of loops.\n",
    "\n",
    "Python supports functional programming constructs like first-class functions, higher order functions, map, filter, reduce, and more.\n",
    "\n",
    "## Don't forget to learn\n",
    "\n",
    "As we explore functional programming techniques in Python, chatbots can be useful assistants to help generate examples and code. However, \n",
    "it is critical that you take the time to thoroughly understand the concepts and code. Copying full solutions from a chatbot without \n",
    "comprehension defeats the purpose of learning. Treat chatbots as collaborators, but be sure to manually write code and annotations \n",
    "to cement your understanding. If the chatbot gives you an answer, and you not sure about part of it ask a followup question.  Being curious\n",
    "is a great way to the learn, and chatbot never gets tired.  If there is a term or concept in the questions introduction you are not sure about, \n",
    "I encourage you to ask the chatobt (or do a google search). I recommend not moving on to the next question until you understand the concepts \n",
    "of the current question.\n",
    "\n",
    "## Activities:\n",
    "\n",
    "### 1. Pure Functions\n",
    "\n",
    "Pure functions are an important concept in functional programming. A pure function is a function that always returns the same output for the same input, and has no side effects. Pure functions only depend on their input arguments - their output is deterministic based solely on their inputs. They do not mutate state, modify global variables, print to screen, access external resources, or have other side effects. The lack of side effects makes pure functions easier to reason about, test, and reuse. Calling a pure function with the same input will invariantly produce the same output. Pure functions are the foundation of functional programming's emphasis on isolation and immutability.\n",
    "\n",
    "Consider the following two functions:\n",
    "\n",
    "```python\n",
    "# Function A\n",
    "def double(x):\n",
    "  x = x * 2 # Mutates input\n",
    "  return x\n",
    "\n",
    "# Function B  \n",
    "def double(x):\n",
    "  return x * 2 # No mutation\n",
    "```\n",
    "\n",
    "a) Which function is a pure function? Explain why."
   ]
  },
  {
   "cell_type": "markdown",
   "id": "ec44b597-b2fa-42e5-bafe-1b37e5ea6779",
   "metadata": {},
   "source": [
    "Your answer:  Function B is a pure function because it returned the same input parameters of double(x). Function A is not a pure function because putting x before x * 2 mutated the input parameters of x which is a form of side effect."
   ]
  },
  {
   "cell_type": "markdown",
   "id": "b110b261-f52f-4040-8716-20b89211bf00",
   "metadata": {},
   "source": [
    "b) What are some benefits of using pure functions when programming?"
   ]
  },
  {
   "cell_type": "markdown",
   "id": "a6de2f9d-91a1-41e4-be46-26a5cfe1e1eb",
   "metadata": {},
   "source": [
    "Your answer: The benefits of pure functions would be its declarativity making testing and debugging easier since it allows us to know that the function would not change unexpectedly. "
   ]
  },
  {
   "cell_type": "markdown",
   "id": "1e6f169c-5262-484c-a356-2134b4a39d65",
   "metadata": {},
   "source": [
    "### 2. Immutable Data\n",
    "\n",
    "Immutable data is data that cannot be changed after it is created. In Python, immutable data types include numbers, strings, tuples, and more. Once defined, the value of an immutable object cannot be altered. To \"change\" an immutable object, you must create a new object with the new value. In contrast, mutable data types like lists and dictionaries can be modified in-place after creation. Immutability prevents side effects from functions that alter data. By using only immutable data, a program is easier to reason about as the data cannot change unexpectedly. Immutable data also enables easier sharing across threads without locking as it cannot be mutated. Functional programming emphasizes immutability to reduce side effects and mutation of state.\n",
    "\n",
    "Consider the following snippet:\n",
    "\n",
    "```python\n",
    "x = [1, 2, 3] \n",
    "\n",
    "x.append(4)\n",
    "\n",
    "print(x)\n",
    "```\n",
    "\n",
    "a) Is x immutable data here? Why or why not?"
   ]
  },
  {
   "cell_type": "markdown",
   "id": "4246c757-8362-41fc-a77b-aa4886681901",
   "metadata": {},
   "source": [
    "Your answer: x is mutable data since list.append is a mutable data type and can be modified after creation.  By definition, immutability should prevent side effects from functions that alter data, however, the x.append(4) line shows a side effect since x would change due to this operation."
   ]
  },
  {
   "cell_type": "markdown",
   "id": "ada9b883-9a99-4c00-809b-d81c99376023",
   "metadata": {},
   "source": [
    "b) How could we change the code to use immutable data instead?"
   ]
  },
  {
   "cell_type": "code",
   "execution_count": null,
   "id": "eb37edff-ac1f-44e8-a287-704be8116ae6",
   "metadata": {},
   "outputs": [],
   "source": [
    "# Write your immutable version here\n",
    "\n",
    "x = (1, 2, 3)\n",
    "x_new = x + (4,)\n",
    "\n",
    "print(new_x)\n",
    "print(x)\n",
    "\n",
    "# First, I have to note that (1, 2, 3) is a tuple of a sequence of values whereas (4,) is a single value. \n",
    "# I added a comma after 4 because of python syntax since I want to interpret 4 as a tuple rather than an expression. \n"
   ]
  },
  {
   "cell_type": "markdown",
   "id": "d25e7bdf-2514-4f33-82a3-942606207f67",
   "metadata": {},
   "source": [
    "### 3. First-class functions\n",
    "\n",
    "In Python, functions are first-class citizens. This means they can be used like any other value in the language - assigned to variables, passed as arguments, returned from other functions, and more. First-class functions are treated like regular values that happen to be callable. This enables higher-order functions - functions that accept other functions as arguments and return functions as output. The ability to manipulate functions as values is essential to functional programming patterns like currying, composition, and pipelines. First-class functions allow passing in different functionality to achieve code reuse and abstraction. Python's support for first-class functions allows developers to adopt a more functional programming style.\n",
    "\n",
    "In Python, functions are first-class citizens. This means they can be:\n",
    "\n",
    "- Assigned to variables and passed around like any other value\n",
    "- Passed as arguments to other functions\n",
    "- Returned as values from other functions\n",
    "\n",
    "Consider the following code:\n",
    "\n",
    "```python\n",
    "def add(a, b):\n",
    "  return a + b\n",
    "\n",
    "def subtract(a, b):\n",
    "  return a - b\n",
    "\n",
    "def compute(fn, x, y):\n",
    "  return fn(x, y)\n",
    "\n",
    "print(compute(add, 2, 3))\n",
    "print(compute(subtract, 5, 2))\n",
    "```\n",
    "\n",
    "a) What makes add and subtract first-class functions in Python?"
   ]
  },
  {
   "cell_type": "markdown",
   "id": "e447695f-7a08-4de1-b84d-fd8198ceb8fd",
   "metadata": {},
   "source": [
    "Your answer: \n",
    "Add and subtract are first class functions in Python since they can be assigned to to variables, \n",
    "For example: \n",
    "def add(a, b):\n",
    "    return a + b\n",
    "this allows us to assign a + b as \"add\" and call it without typing the whole thing. They are also defined using the def keyword to allow it to do specific actions such as the print(compute(add, 2, 3)) compute line.\n",
    "\n",
    "Add and subtract can also be passed as arguments, \n",
    "For example: print(compute(add, 2, 3))\n",
    "This shows that we can pass the function as an argument to another function.\n",
    "\n",
    "And lastly, add and subtract can be returned as values from other functions. This means that add and subtract, as functions, dont simply just do the operation but they also return a value where this value can be used from other functions. \n",
    "For example:\n",
    "compute(add, 2, 3)\n",
    "Here, we are calling add(2,3) which will result to 5 which is the value coming from adding 2 and 3 that is returned from the compute function.\n",
    "\n"
   ]
  },
  {
   "cell_type": "markdown",
   "id": "32f957cf-6b82-40a7-a0d7-51e0d88af4c0",
   "metadata": {},
   "source": [
    "b) What are some advantages of using first-class functions like this?"
   ]
  },
  {
   "cell_type": "markdown",
   "id": "7c412efd-9dc7-4a56-93cd-9c8b26d6face",
   "metadata": {},
   "source": [
    "Your answer: The advantages of using first-class functions such as add and subtract would be to reduce the amount of code you need to write since it gives the ability for code reuse and abstraction. It also helps write code in an organised manner so we can maintain it easier."
   ]
  },
  {
   "cell_type": "markdown",
   "id": "ea8a8328-5524-4992-9b3a-cab656bfc8f5",
   "metadata": {},
   "source": [
    "### 4. Higher Order Functions\n",
    "\n",
    "Higher-order functions are functions that accept other functions as arguments and/or return functions as output. They are a key aspect of functional programming, enabling abstraction and reuse. Passing functions to higher-order functions allows parameterising behavior and decoupling logic. Returning functions from higher-order functions allows creating reusable functional code blocks. Python supports higher-order functions, allowing developers to abstract common patterns into reusable higher-order functions that can act on many other functions. This functional technique increases modularity and declarative code. Higher-order functions satisfy the need for looping and iteration in a functional style without mutating state.\n",
    "\n",
    "Implement a higher order function called universal_compute that accepts a single function and uses it to compute the result for multiple different inputs.\n",
    "\n",
    "For example:\n",
    "\n",
    "```python\n",
    "def add(a, b):\n",
    "  return a + b\n",
    "\n",
    "universal_compute(add, [1, 2], [3, 4]) \n",
    "\n",
    "# Should return [4, 6]\n",
    "```"
   ]
  },
  {
   "cell_type": "code",
   "execution_count": null,
   "id": "f53fa713-a4be-4537-b046-e03b59ac8ab0",
   "metadata": {},
   "outputs": [],
   "source": [
    "# Write universal_compute() here!\n",
    "def add(a, b):\n",
    "    return a + b\n",
    "\n",
    "def universal_compute(func, list_a, list_b):\n",
    "    result = [func(a, b) for a, b in zip(list_a, list_b)]\n",
    "    return result\n",
    "\n",
    "result = universal_compute(add, [1, 2], [3, 4])\n",
    "\n",
    "print(result)\n",
    "\n",
    "#used list comprehension syntax"
   ]
  },
  {
   "cell_type": "markdown",
   "id": "7f71d78f-476a-44c2-b8f3-9e4f52dc926f",
   "metadata": {},
   "source": [
    "### 5. Recursive Functions\n",
    "\n",
    "Recursion is commonly used in functional programming. Recursive functions call themselves repeatedly to repeat operations in a functional style, avoiding stateful loops. This fits with function programming's emphasis on pure functions without side effects. Recursive solutions degrade problems into simpler cases in a declarative, stepwise way. Functional languages leverage recursion for sequential processing instead of stateful iteration. Python supports recursive functions, enabling a more functional approach of expressing repetition via recursion rather than mutable state and loops.\n",
    "\n",
    "\n",
    "Implement a recursive function called factorial that computes n! (n factorial), which is defined as:\n",
    "\n",
    "n! = n * (n-1) * (n-2) * ... * 1\n",
    "\n",
    "For example: \n",
    "\n",
    "factorial(5) = 5 * 4 * 3 * 2 * 1 = 120"
   ]
  },
  {
   "cell_type": "code",
   "execution_count": null,
   "id": "192b3b4d-1694-47e8-82bc-9d74e5308842",
   "metadata": {},
   "outputs": [],
   "source": [
    "# Write factioral() here!\n",
    "def factorial(n):\n",
    "    if n == 1:\n",
    "        return 1\n",
    "    else:\n",
    "        return n * factorial(n - 1)\n",
    "    \n",
    "#Test Case\n",
    "print(factorial(5))\n",
    "print(factorial(0))"
   ]
  },
  {
   "cell_type": "markdown",
   "id": "a6307f63-8f0f-4618-ba85-c48521c80819",
   "metadata": {},
   "source": [
    "### 6. List Comprehensions\n",
    "\n",
    "List comprehensions provide a declarative way to generate lists functionally in Python. They apply expressions to elements in an iterable using a concise syntax to build a list without mutating any existing lists. List comps create lists in a functional manner without side effects. This matches functional programming's goals of immutability and avoidance of state changes. List comprehensions leverage functions in their expressions, often using higher order functions like map() and filter(). They provide a way to write functional loops and express data pipelines functionally. Python's support for list comprehensions enables a key functional programming technique for effortless list generation aligned with immutability principles.\n",
    "\n",
    "In Python, list comprehensions are often considered the more \"Pythonic\" way to generate lists instead of explicit for loops. Python's support for list comprehensions enables a key functional programming technique for effortless list generation aligned with immutability principles.\n",
    "\n",
    "a) Write a list comprehension to create a list of the squares of the numbers 1 to 10."
   ]
  },
  {
   "cell_type": "code",
   "execution_count": null,
   "id": "1a907ec2-1798-4452-b13a-fb218040a01e",
   "metadata": {},
   "outputs": [],
   "source": [
    "# Wrtie list comprehension to square numbers here\n",
    "\n",
    "numbers = range(1, 11)\n",
    "\n",
    "sqaures_map = list(map(lambda x: x ** 2, numbers))\n",
    "\n",
    "print(sqaures_map)"
   ]
  },
  {
   "cell_type": "markdown",
   "id": "4a166ba0-85b7-4ffc-825a-72da455d0381",
   "metadata": {},
   "source": [
    "b) Write a list comp to create a list of even numbers from 1 to 20 that are divisible by 3."
   ]
  },
  {
   "cell_type": "code",
   "execution_count": null,
   "id": "f5c2f5ac-2d21-4d22-8579-97efc09370e4",
   "metadata": {},
   "outputs": [],
   "source": [
    "# Wrtie a list comprehension to square numbers here\n",
    "\n",
    "# Wrtie a list comprehension to square numbers here\n",
    "\n",
    "number = range (1,21)\n",
    "\n",
    "sqaures_filter = filter(lambda x: x%3==0, number)\n",
    "\n",
    "squares_map = list(map(lambda x: x**2, sqaures_filter))\n",
    "\n",
    "\n",
    "print(squares_map)\n",
    "print(sqaures_filter)"
   ]
  },
  {
   "cell_type": "markdown",
   "id": "99c27231-fc23-4aee-8718-cef874fb1736",
   "metadata": {},
   "source": [
    "### 7. Closures\n",
    "\n",
    "Closures are inner functions that remember and maintain access to variables in their enclosing scope even after that scope has ended. The inner function \"closes over\" the external variables it references, allowing it to use them later. This provides a way to implement data hiding and encapsulation in Python. Closures can avoid the need for classes in some instances. They are commonly used for callbacks or creating specialized functions. Closures demonstrate how functions in Python maintain binding to their defining scope. This is a key concept in functional programming that Python supports well due to lexical scoping and first-class functions.\n",
    "\n",
    "a) Create a closure function called outer that returns an inner function that prints \"Hello world\""
   ]
  },
  {
   "cell_type": "code",
   "execution_count": null,
   "id": "cae5b63a-a026-45c9-93db-8000da8c417a",
   "metadata": {},
   "outputs": [],
   "source": [
    "# Write closure function\n",
    "\n",
    "def outer_func():\n",
    "    x = \"Hello world\"\n",
    "\n",
    "    def inner_func():\n",
    "        print(x)\n",
    "    \n",
    "    return inner_func\n",
    "\n",
    "my_func = outer_func()\n",
    "\n",
    "my_func()"
   ]
  },
  {
   "cell_type": "markdown",
   "id": "3fe9cdb9-a984-46cf-8342-af9414c91c89",
   "metadata": {},
   "source": [
    "b) Explain why the inner function is still able to print \"Hello world\" even after outer finishes executing.\n",
    "\n",
    "The inner function is still able to print out Hello World because the inner function retained the variable in its enclosed function even after the enclosed function finished executing. Basically, even though the outer_func() had been closed, the inner_func() still knew about the \"x\" variable which is \"Hello world\". So by calling out my_func(), it was able to read that \"x\" variable and say \"Hello world\"."
   ]
  },
  {
   "cell_type": "markdown",
   "id": "face5929-7c0c-4ae7-9657-9af43a3c79c0",
   "metadata": {},
   "source": [
    "## 8. Project (optional)\n",
    "\n",
    "For this final optional task, you have an opportunity to apply the functional programming concepts we've covered in a simple project. You will create a program that reads in a file of numbers, filters out the odd numbers, squares the remaining even numbers, and calculates the sum. This allows you to demonstrate comprehension of functions, immutability, higher order functions, and other core ideas. The goal is to solve this using a functional approach leveraging pure functions, immutable data structures, first-class functions, higher order functions, and recursion if desired. You can utilize some or all of the techniques covered to complete this task functionally. This serves as useful practice to cement your understanding of functional programming principles in Python.\n",
    "\n",
    "Additionally, use this task to practice a typical developer workflow for a new project:\n",
    "\n",
    "1. Initialize a new Git repository in a folder for this project to enable version control\n",
    "2. Use Conda to create and activate a new virtual environment to isolate dependencies \n",
    "3. Install any required packages you need into this environment\n",
    "4. Write your functional program file, committing changes to Git as you go\n",
    "5. Run and test your program in the virtual environment\n",
    "6. Once complete, export your Conda environment file to share dependencies\n",
    "7. Commit your final changes and push your code to a remote repository\n",
    "\n",
    "Following these steps models professional workflow - leveraging Git for history and collaboration, Conda for environment management, and functional programming principles for the code itself. This mirrors real-world development and will give you good practice applying all of these concepts together.\n"
   ]
  },
  {
   "cell_type": "code",
   "execution_count": null,
   "id": "b9ead2cf-acc8-49d5-a880-ddb4aab4a8ce",
   "metadata": {},
   "outputs": [],
   "source": [
    "# Write you project here"
   ]
  },
  {
   "cell_type": "markdown",
   "id": "4129e9a2-f808-4e55-95a0-2a2773e51b42",
   "metadata": {},
   "source": [
    "## Conclusion\n",
    "\n",
    "In this worksheet you learned:\n",
    "\n",
    "- Pure vs impure functions\n",
    "- Immutable vs mutable data  \n",
    "- First-class functions\n",
    "- Higher order functions\n",
    "- Recursion\n",
    "\n",
    "These concepts form the basic building blocks of functional programming to write cleaner, more reusable, and more testable code in Python."
   ]
  }
 ],
 "metadata": {
  "kernelspec": {
   "display_name": "Python [conda env:jupyter] *",
   "language": "python",
   "name": "conda-env-jupyter-py"
  },
  "language_info": {
   "codemirror_mode": {
    "name": "ipython",
    "version": 3
   },
   "file_extension": ".py",
   "mimetype": "text/x-python",
   "name": "python",
   "nbconvert_exporter": "python",
   "pygments_lexer": "ipython3",
   "version": "3.10.12"
  }
 },
 "nbformat": 4,
 "nbformat_minor": 5
}
